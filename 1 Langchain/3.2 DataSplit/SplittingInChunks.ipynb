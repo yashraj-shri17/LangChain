{
 "cells": [
  {
   "cell_type": "code",
   "execution_count": 1,
   "id": "4db3298e",
   "metadata": {},
   "outputs": [
    {
     "data": {
      "text/plain": [
       "[Document(metadata={'source': 'speech.txt'}, page_content='Good morning everyone,\\n\\nItâ€™s an honor to stand before you today and share a few words. I believe that every gathering like this is not just an event, but an opportunity â€” an opportunity to learn from one another, to inspire each other, and to build stronger connections.\\n\\nWe live in a world that changes rapidly every day. Technology advances at an incredible pace, new ideas emerge constantly, and challenges arise in ways we might never have imagined before. But amidst all this change, one thing remains constant: the power of people coming together with shared goals and dreams.\\n\\nEach one of us carries unique talents, experiences, and stories. These differences are what make us strong. They allow us to see problems from many perspectives and find creative solutions that we might never have discovered alone. Whether in our communities, our schools, or our workplaces, itâ€™s this spirit of collaboration that truly drives progress.\\n\\nHowever, progress doesnâ€™t come without obstacles. Sometimes we face setbacks, doubts, or even failures. But let me remind you that failure is not the end; itâ€™s merely a lesson â€” a stepping stone toward success. Every successful person you admire has faced difficulties. What sets them apart is not the absence of struggle, but the courage to keep moving forward.\\n\\nSo today, I encourage you all to believe in yourselves and in the potential that lies within you. Take chances. Step out of your comfort zone. Pursue your passions, even when the path seems uncertain. And remember, no dream is too big if youâ€™re willing to work for it.\\n\\nLet us also remember to extend kindness to one another. A simple word of encouragement can brighten someoneâ€™s day. A helping hand can change the course of someoneâ€™s life. It costs nothing to be kind, but its impact is immeasurable.\\n\\nIn closing, Iâ€™d like to express my gratitude to each one of you for being here. Your presence means that you care â€” about learning, about growing, and about making a positive difference. Together, I believe we can create a future filled with hope, progress, and endless possibilities.\\n\\nThank you, and I wish you all a wonderful and inspiring day ahead.\\n')]"
      ]
     },
     "execution_count": 1,
     "metadata": {},
     "output_type": "execute_result"
    }
   ],
   "source": [
    "## Text Loader\n",
    "from langchain_community.document_loaders import TextLoader\n",
    "loader = TextLoader('speech.txt')\n",
    "loader\n",
    "text_document = loader.load() ## load the data\n",
    "text_document ## its a document file"
   ]
  },
  {
   "cell_type": "markdown",
   "id": "7d8e847f",
   "metadata": {},
   "source": [
    "# How to Recursively Split Text By Characters"
   ]
  },
  {
   "cell_type": "code",
   "execution_count": 2,
   "id": "d748f8af",
   "metadata": {},
   "outputs": [
    {
     "name": "stdout",
     "output_type": "stream",
     "text": [
      "Requirement already satisfied: langchain-text-splitters in c:\\users\\des\\anaconda3\\lib\\site-packages (0.3.8)\n",
      "Requirement already satisfied: langchain-core<1.0.0,>=0.3.51 in c:\\users\\des\\anaconda3\\lib\\site-packages (from langchain-text-splitters) (0.3.66)\n",
      "Requirement already satisfied: langsmith>=0.3.45 in c:\\users\\des\\anaconda3\\lib\\site-packages (from langchain-core<1.0.0,>=0.3.51->langchain-text-splitters) (0.4.4)\n",
      "Requirement already satisfied: tenacity!=8.4.0,<10.0.0,>=8.1.0 in c:\\users\\des\\anaconda3\\lib\\site-packages (from langchain-core<1.0.0,>=0.3.51->langchain-text-splitters) (8.2.2)\n",
      "Requirement already satisfied: jsonpatch<2.0,>=1.33 in c:\\users\\des\\anaconda3\\lib\\site-packages (from langchain-core<1.0.0,>=0.3.51->langchain-text-splitters) (1.33)\n",
      "Requirement already satisfied: PyYAML>=5.3 in c:\\users\\des\\anaconda3\\lib\\site-packages (from langchain-core<1.0.0,>=0.3.51->langchain-text-splitters) (6.0)\n",
      "Requirement already satisfied: packaging<25,>=23.2 in c:\\users\\des\\anaconda3\\lib\\site-packages (from langchain-core<1.0.0,>=0.3.51->langchain-text-splitters) (24.2)\n",
      "Requirement already satisfied: typing-extensions>=4.7 in c:\\users\\des\\anaconda3\\lib\\site-packages (from langchain-core<1.0.0,>=0.3.51->langchain-text-splitters) (4.12.2)\n",
      "Requirement already satisfied: pydantic>=2.7.4 in c:\\users\\des\\anaconda3\\lib\\site-packages (from langchain-core<1.0.0,>=0.3.51->langchain-text-splitters) (2.10.6)\n",
      "Requirement already satisfied: jsonpointer>=1.9 in c:\\users\\des\\anaconda3\\lib\\site-packages (from jsonpatch<2.0,>=1.33->langchain-core<1.0.0,>=0.3.51->langchain-text-splitters) (2.1)\n",
      "Requirement already satisfied: httpx<1,>=0.23.0 in c:\\users\\des\\anaconda3\\lib\\site-packages (from langsmith>=0.3.45->langchain-core<1.0.0,>=0.3.51->langchain-text-splitters) (0.28.1)\n",
      "Requirement already satisfied: orjson<4.0.0,>=3.9.14 in c:\\users\\des\\anaconda3\\lib\\site-packages (from langsmith>=0.3.45->langchain-core<1.0.0,>=0.3.51->langchain-text-splitters) (3.10.15)\n",
      "Requirement already satisfied: requests<3,>=2 in c:\\users\\des\\anaconda3\\lib\\site-packages (from langsmith>=0.3.45->langchain-core<1.0.0,>=0.3.51->langchain-text-splitters) (2.32.4)\n",
      "Requirement already satisfied: requests-toolbelt<2.0.0,>=1.0.0 in c:\\users\\des\\anaconda3\\lib\\site-packages (from langsmith>=0.3.45->langchain-core<1.0.0,>=0.3.51->langchain-text-splitters) (1.0.0)\n",
      "Requirement already satisfied: zstandard<0.24.0,>=0.23.0 in c:\\users\\des\\anaconda3\\lib\\site-packages (from langsmith>=0.3.45->langchain-core<1.0.0,>=0.3.51->langchain-text-splitters) (0.23.0)\n",
      "Requirement already satisfied: annotated-types>=0.6.0 in c:\\users\\des\\anaconda3\\lib\\site-packages (from pydantic>=2.7.4->langchain-core<1.0.0,>=0.3.51->langchain-text-splitters) (0.7.0)\n",
      "Requirement already satisfied: pydantic-core==2.27.2 in c:\\users\\des\\anaconda3\\lib\\site-packages (from pydantic>=2.7.4->langchain-core<1.0.0,>=0.3.51->langchain-text-splitters) (2.27.2)\n",
      "Requirement already satisfied: anyio in c:\\users\\des\\anaconda3\\lib\\site-packages (from httpx<1,>=0.23.0->langsmith>=0.3.45->langchain-core<1.0.0,>=0.3.51->langchain-text-splitters) (3.7.1)\n",
      "Requirement already satisfied: certifi in c:\\users\\des\\anaconda3\\lib\\site-packages (from httpx<1,>=0.23.0->langsmith>=0.3.45->langchain-core<1.0.0,>=0.3.51->langchain-text-splitters) (2023.11.17)\n",
      "Requirement already satisfied: httpcore==1.* in c:\\users\\des\\anaconda3\\lib\\site-packages (from httpx<1,>=0.23.0->langsmith>=0.3.45->langchain-core<1.0.0,>=0.3.51->langchain-text-splitters) (1.0.7)\n",
      "Requirement already satisfied: idna in c:\\users\\des\\anaconda3\\lib\\site-packages (from httpx<1,>=0.23.0->langsmith>=0.3.45->langchain-core<1.0.0,>=0.3.51->langchain-text-splitters) (3.4)\n",
      "Requirement already satisfied: h11<0.15,>=0.13 in c:\\users\\des\\anaconda3\\lib\\site-packages (from httpcore==1.*->httpx<1,>=0.23.0->langsmith>=0.3.45->langchain-core<1.0.0,>=0.3.51->langchain-text-splitters) (0.14.0)\n",
      "Requirement already satisfied: charset_normalizer<4,>=2 in c:\\users\\des\\anaconda3\\lib\\site-packages (from requests<3,>=2->langsmith>=0.3.45->langchain-core<1.0.0,>=0.3.51->langchain-text-splitters) (2.0.4)\n",
      "Requirement already satisfied: urllib3<3,>=1.21.1 in c:\\users\\des\\anaconda3\\lib\\site-packages (from requests<3,>=2->langsmith>=0.3.45->langchain-core<1.0.0,>=0.3.51->langchain-text-splitters) (1.26.16)\n",
      "Requirement already satisfied: sniffio>=1.1 in c:\\users\\des\\anaconda3\\lib\\site-packages (from anyio->httpx<1,>=0.23.0->langsmith>=0.3.45->langchain-core<1.0.0,>=0.3.51->langchain-text-splitters) (1.3.1)\n"
     ]
    }
   ],
   "source": [
    "!pip install langchain-text-splitters"
   ]
  },
  {
   "cell_type": "code",
   "execution_count": 3,
   "id": "3d25e61f",
   "metadata": {},
   "outputs": [],
   "source": [
    "from langchain_text_splitters import RecursiveCharacterTextSplitter\n",
    "text_splitter = RecursiveCharacterTextSplitter(chunk_size=500,chunk_overlap=50)\n",
    "final_docs = text_splitter.split_documents(text_document)"
   ]
  },
  {
   "cell_type": "code",
   "execution_count": 4,
   "id": "8f82dd80",
   "metadata": {},
   "outputs": [
    {
     "data": {
      "text/plain": [
       "7"
      ]
     },
     "execution_count": 4,
     "metadata": {},
     "output_type": "execute_result"
    }
   ],
   "source": [
    "final_docs\n",
    "len(final_docs)"
   ]
  },
  {
   "cell_type": "code",
   "execution_count": 5,
   "id": "7a8a91c3",
   "metadata": {
    "scrolled": true
   },
   "outputs": [
    {
     "name": "stdout",
     "output_type": "stream",
     "text": [
      "page_content='Good morning everyone,\n",
      "\n",
      "Itâ€™s an honor to stand before you today and share a few words. I believe that every gathering like this is not just an event, but an opportunity â€” an opportunity to learn from one another, to inspire each other, and to build stronger connections.' metadata={'source': 'speech.txt'}\n",
      "\n",
      "page_content='We live in a world that changes rapidly every day. Technology advances at an incredible pace, new ideas emerge constantly, and challenges arise in ways we might never have imagined before. But amidst all this change, one thing remains constant: the power of people coming together with shared goals and dreams.' metadata={'source': 'speech.txt'}\n",
      "\n",
      "page_content='Each one of us carries unique talents, experiences, and stories. These differences are what make us strong. They allow us to see problems from many perspectives and find creative solutions that we might never have discovered alone. Whether in our communities, our schools, or our workplaces, itâ€™s this spirit of collaboration that truly drives progress.' metadata={'source': 'speech.txt'}\n",
      "\n",
      "page_content='However, progress doesnâ€™t come without obstacles. Sometimes we face setbacks, doubts, or even failures. But let me remind you that failure is not the end; itâ€™s merely a lesson â€” a stepping stone toward success. Every successful person you admire has faced difficulties. What sets them apart is not the absence of struggle, but the courage to keep moving forward.' metadata={'source': 'speech.txt'}\n",
      "\n",
      "page_content='So today, I encourage you all to believe in yourselves and in the potential that lies within you. Take chances. Step out of your comfort zone. Pursue your passions, even when the path seems uncertain. And remember, no dream is too big if youâ€™re willing to work for it.' metadata={'source': 'speech.txt'}\n",
      "\n",
      "page_content='Let us also remember to extend kindness to one another. A simple word of encouragement can brighten someoneâ€™s day. A helping hand can change the course of someoneâ€™s life. It costs nothing to be kind, but its impact is immeasurable.' metadata={'source': 'speech.txt'}\n",
      "\n",
      "page_content='In closing, Iâ€™d like to express my gratitude to each one of you for being here. Your presence means that you care â€” about learning, about growing, and about making a positive difference. Together, I believe we can create a future filled with hope, progress, and endless possibilities.\n",
      "\n",
      "Thank you, and I wish you all a wonderful and inspiring day ahead.' metadata={'source': 'speech.txt'}\n",
      "\n"
     ]
    }
   ],
   "source": [
    "for i in range(len(final_docs)) :\n",
    "    print(final_docs[i])\n",
    "    print()"
   ]
  },
  {
   "cell_type": "code",
   "execution_count": 6,
   "id": "43f7d933",
   "metadata": {},
   "outputs": [
    {
     "name": "stdout",
     "output_type": "stream",
     "text": [
      "page_content='Good morning everyone,\n",
      "\n",
      "Itâ€™s an honor to stand before you today and share a few words. I believe that every gathering like this is not just an event, but an opportunity â€” an opportunity to learn from one another, to inspire each other, and to build stronger connections.'\n",
      "\n",
      "page_content='We live in a world that changes rapidly every day. Technology advances at an incredible pace, new ideas emerge constantly, and challenges arise in ways we might never have imagined before. But amidst all this change, one thing remains constant: the power of people coming together with shared goals'\n"
     ]
    }
   ],
   "source": [
    "speech = \"\"\n",
    "with open(\"speech.txt\") as f:\n",
    "    speech = f.read()\n",
    "    \n",
    "speech ## Now speech is a text not a document\n",
    "text_splitter = RecursiveCharacterTextSplitter(chunk_size=300,chunk_overlap=20)\n",
    "text = text_splitter.create_documents([speech])\n",
    "print(text[0])\n",
    "print()\n",
    "print(text[1])"
   ]
  },
  {
   "cell_type": "markdown",
   "id": "4924666b",
   "metadata": {},
   "source": [
    "# character text splitter"
   ]
  },
  {
   "cell_type": "code",
   "execution_count": 7,
   "id": "f0ba028e",
   "metadata": {},
   "outputs": [
    {
     "data": {
      "text/plain": [
       "[Document(metadata={'source': 'speech.txt'}, page_content='Good morning everyone,\\n\\nItâ€™s an honor to stand before you today and share a few words. I believe that every gathering like this is not just an event, but an opportunity â€” an opportunity to learn from one another, to inspire each other, and to build stronger connections.\\n\\nWe live in a world that changes rapidly every day. Technology advances at an incredible pace, new ideas emerge constantly, and challenges arise in ways we might never have imagined before. But amidst all this change, one thing remains constant: the power of people coming together with shared goals and dreams.\\n\\nEach one of us carries unique talents, experiences, and stories. These differences are what make us strong. They allow us to see problems from many perspectives and find creative solutions that we might never have discovered alone. Whether in our communities, our schools, or our workplaces, itâ€™s this spirit of collaboration that truly drives progress.\\n\\nHowever, progress doesnâ€™t come without obstacles. Sometimes we face setbacks, doubts, or even failures. But let me remind you that failure is not the end; itâ€™s merely a lesson â€” a stepping stone toward success. Every successful person you admire has faced difficulties. What sets them apart is not the absence of struggle, but the courage to keep moving forward.\\n\\nSo today, I encourage you all to believe in yourselves and in the potential that lies within you. Take chances. Step out of your comfort zone. Pursue your passions, even when the path seems uncertain. And remember, no dream is too big if youâ€™re willing to work for it.\\n\\nLet us also remember to extend kindness to one another. A simple word of encouragement can brighten someoneâ€™s day. A helping hand can change the course of someoneâ€™s life. It costs nothing to be kind, but its impact is immeasurable.\\n\\nIn closing, Iâ€™d like to express my gratitude to each one of you for being here. Your presence means that you care â€” about learning, about growing, and about making a positive difference. Together, I believe we can create a future filled with hope, progress, and endless possibilities.\\n\\nThank you, and I wish you all a wonderful and inspiring day ahead.\\n')]"
      ]
     },
     "execution_count": 7,
     "metadata": {},
     "output_type": "execute_result"
    }
   ],
   "source": [
    "## Text Loader\n",
    "from langchain_community.document_loaders import TextLoader\n",
    "loader = TextLoader('speech.txt')\n",
    "loader\n",
    "text_document = loader.load() ## load the data\n",
    "text_document ## its a document file"
   ]
  },
  {
   "cell_type": "code",
   "execution_count": 8,
   "id": "ab62660c",
   "metadata": {},
   "outputs": [
    {
     "name": "stderr",
     "output_type": "stream",
     "text": [
      "Created a chunk of size 250, which is longer than the specified 200\n",
      "Created a chunk of size 310, which is longer than the specified 200\n",
      "Created a chunk of size 355, which is longer than the specified 200\n",
      "Created a chunk of size 368, which is longer than the specified 200\n",
      "Created a chunk of size 270, which is longer than the specified 200\n",
      "Created a chunk of size 235, which is longer than the specified 200\n",
      "Created a chunk of size 288, which is longer than the specified 200\n"
     ]
    }
   ],
   "source": [
    "from langchain_text_splitters import CharacterTextSplitter\n",
    "text_splitter = CharacterTextSplitter(separator=\"\\n\\n\",chunk_size=200,chunk_overlap=20)\n",
    "final_doc = text_splitter.split_documents(text_document)"
   ]
  },
  {
   "cell_type": "code",
   "execution_count": 9,
   "id": "0cb9b5d3",
   "metadata": {},
   "outputs": [
    {
     "name": "stderr",
     "output_type": "stream",
     "text": [
      "Created a chunk of size 310, which is longer than the specified 300\n",
      "Created a chunk of size 355, which is longer than the specified 300\n",
      "Created a chunk of size 368, which is longer than the specified 300\n"
     ]
    },
    {
     "name": "stdout",
     "output_type": "stream",
     "text": [
      "page_content='Good morning everyone,\n",
      "\n",
      "Itâ€™s an honor to stand before you today and share a few words. I believe that every gathering like this is not just an event, but an opportunity â€” an opportunity to learn from one another, to inspire each other, and to build stronger connections.'\n",
      "\n",
      "page_content='We live in a world that changes rapidly every day. Technology advances at an incredible pace, new ideas emerge constantly, and challenges arise in ways we might never have imagined before. But amidst all this change, one thing remains constant: the power of people coming together with shared goals and dreams.'\n"
     ]
    }
   ],
   "source": [
    "speech = \"\"\n",
    "with open(\"speech.txt\") as f:\n",
    "    speech = f.read()\n",
    "    \n",
    "speech ## Now speech is a text not a document\n",
    "text_splitter = CharacterTextSplitter(chunk_size=300,chunk_overlap=20) ## by default \\n\\n seperator\n",
    "text = text_splitter.create_documents([speech])\n",
    "print(text[0])\n",
    "print()\n",
    "print(text[1])"
   ]
  },
  {
   "cell_type": "markdown",
   "id": "463ccc8f",
   "metadata": {},
   "source": [
    "# HTML TEXT SPLITTERS"
   ]
  },
  {
   "cell_type": "code",
   "execution_count": 13,
   "id": "bb328f92",
   "metadata": {},
   "outputs": [
    {
     "data": {
      "text/plain": [
       "[Document(metadata={'Header 1': 'Main Title'}, page_content='Main Title'),\n",
       " Document(metadata={'Header 1': 'Main Title'}, page_content='This is a paragraph under the main title.'),\n",
       " Document(metadata={'Header 1': 'Main Title', 'Header 2': 'Section 1'}, page_content='Section 1'),\n",
       " Document(metadata={'Header 1': 'Main Title', 'Header 2': 'Section 1'}, page_content='This is a paragraph under Section 1.'),\n",
       " Document(metadata={'Header 1': 'Main Title', 'Header 2': 'Section 1', 'Header 3': 'Subsection 1.1'}, page_content='Subsection 1.1'),\n",
       " Document(metadata={'Header 1': 'Main Title', 'Header 2': 'Section 1', 'Header 3': 'Subsection 1.1'}, page_content='This is a paragraph under Subsection 1.1.'),\n",
       " Document(metadata={'Header 1': 'Main Title', 'Header 2': 'Section 2'}, page_content='Section 2'),\n",
       " Document(metadata={'Header 1': 'Main Title', 'Header 2': 'Section 2'}, page_content='This is a paragraph under Section 2.'),\n",
       " Document(metadata={'Header 1': 'Main Title', 'Header 2': 'Section 2', 'Header 3': 'Subsection 2.1'}, page_content='Subsection 2.1'),\n",
       " Document(metadata={'Header 1': 'Main Title', 'Header 2': 'Section 2', 'Header 3': 'Subsection 2.1'}, page_content='This is a paragraph under Subsection 2.1.'),\n",
       " Document(metadata={'Header 1': 'Another Main Title'}, page_content='Another Main Title'),\n",
       " Document(metadata={'Header 1': 'Another Main Title'}, page_content='This is a paragraph under another main title.')]"
      ]
     },
     "execution_count": 13,
     "metadata": {},
     "output_type": "execute_result"
    }
   ],
   "source": [
    "from langchain_text_splitters import HTMLHeaderTextSplitter\n",
    "html_String = \"\"\"\n",
    "<!DOCTYPE html>\n",
    "<html lang=\"en\">\n",
    "<head>\n",
    "  <meta charset=\"UTF-8\" />\n",
    "  <meta name=\"viewport\" content=\"width=device-width, initial-scale=1.0\"/>\n",
    "  <title>HTML with Multiple Headers</title>\n",
    "  <style>\n",
    "    body {\n",
    "      font-family: sans-serif;\n",
    "      background-color: #f9f9f9;\n",
    "      margin: 0;\n",
    "      padding: 20px;\n",
    "    }\n",
    "    div {\n",
    "      background-color: #fff;\n",
    "      border: 1px solid #ddd;\n",
    "      padding: 15px;\n",
    "      margin-bottom: 20px;\n",
    "      border-radius: 5px;\n",
    "      box-shadow: 0 2px 4px rgba(0,0,0,0.1);\n",
    "    }\n",
    "    h1, h2, h3 {\n",
    "      color: #2c3e50;\n",
    "    }\n",
    "    p {\n",
    "      color: #555;\n",
    "    }\n",
    "  </style>\n",
    "</head>\n",
    "<body>\n",
    "  <div>\n",
    "    <h1>Main Title</h1>\n",
    "    <p>This is a paragraph under the main title.</p>\n",
    "  </div>\n",
    "\n",
    "  <div>\n",
    "    <h2>Section 1</h2>\n",
    "    <p>This is a paragraph under Section 1.</p>\n",
    "  </div>\n",
    "\n",
    "  <div>\n",
    "    <h3>Subsection 1.1</h3>\n",
    "    <p>This is a paragraph under Subsection 1.1.</p>\n",
    "  </div>\n",
    "\n",
    "  <div>\n",
    "    <h2>Section 2</h2>\n",
    "    <p>This is a paragraph under Section 2.</p>\n",
    "  </div>\n",
    "\n",
    "  <div>\n",
    "    <h3>Subsection 2.1</h3>\n",
    "    <p>This is a paragraph under Subsection 2.1.</p>\n",
    "  </div>\n",
    "\n",
    "  <div>\n",
    "    <h1>Another Main Title</h1>\n",
    "    <p>This is a paragraph under another main title.</p>\n",
    "  </div>\n",
    "</body>\n",
    "</html>\n",
    "\"\"\"\n",
    "\n",
    "\n",
    "header_to_split_on = [\n",
    "    (\"h1\",\"Header 1\"),\n",
    "    (\"h2\",\"Header 2\"),\n",
    "    (\"h3\",\"Header 3\")\n",
    "    ]\n",
    "\n",
    "html_Splitter = HTMLHeaderTextSplitter(header_to_split_on)\n",
    "html_header_splits = html_Splitter.split_text(html_String)\n",
    "html_header_splits\n",
    "     "
   ]
  },
  {
   "cell_type": "code",
   "execution_count": 16,
   "id": "9f185b3a",
   "metadata": {},
   "outputs": [
    {
     "data": {
      "text/plain": [
       "[Document(metadata={}, page_content='Skip to content  \\nSkip to sidebar  \\n/  \\nBlog  \\nChangelog  \\nDocs  \\nCustomer stories  \\nUse Copilot for free  \\nAttend GitHub Universe  \\nAI & ML  \\nAI & ML  \\nLearn about artificial intelligence and machine learning across the GitHub ecosystem and the wider industry.  \\nGenerative AI  \\nLearn how to build with generative AI.  \\nGitHub Copilot  \\nChange how you work with GitHub Copilot.  \\nLLMs  \\nEverything developers need to know about LLMs.  \\nMachine learning  \\nMachine learning tips, tricks, and best practices.  \\nHow AI code generation works  \\nExplore the capabilities and benefits of AI code generation and how it can improve your developer experience.  \\nLearn more  \\nDeveloper skills  \\nDeveloper skills  \\nResources for developers to grow in their skills and careers.  \\nApplication development  \\nInsights and best practices for building apps.  \\nCareer growth  \\nTips & tricks to grow as a professional developer.  \\nGitHub  \\nImprove how you use GitHub at work.  \\nGitHub Education  \\nLearn how to move into your first professional role.  \\nProgramming languages & frameworks  \\nStay current on what’s new (or new again).  \\nGet started with GitHub documentation  \\nLearn how to start building, shipping, and maintaining software with GitHub.  \\nLearn more  \\nEngineering  \\nEngineering  \\nGet an inside look at how we’re building the home for all developers.  \\nArchitecture & optimization  \\nDiscover how we deliver a performant and highly available experience across the GitHub platform.  \\nEngineering principles  \\nExplore best practices for building software at scale with a majority remote team.  \\nInfrastructure  \\nGet a glimpse at the technology underlying the world’s leading AI-powered developer platform.  \\nPlatform security  \\nLearn how we build security into everything we do across the developer lifecycle.  \\nUser experience  \\nFind out what goes into making GitHub the home for all developers.  \\nHow we use GitHub to be more productive, collaborative, and secure  \\nOur engineering and security teams do some incredible work. Let’s take a look at how we use GitHub to be more productive, build collaboratively, and shift security left.  \\nLearn more  \\nEnterprise software  \\nEnterprise software  \\nExplore how to write, build, and deploy enterprise software at scale.  \\nAutomation  \\nAutomating your way to faster and more secure ships.  \\nCI/CD  \\nGuides on continuous integration and delivery.  \\nCollaboration  \\nTips, tools, and tricks to improve developer collaboration.  \\nDevOps  \\nDevOps resources for enterprise engineering teams.  \\nDevSecOps  \\nHow to integrate security into the SDLC.  \\nGovernance & compliance  \\nEnsuring your builds stay clean.  \\nHow enterprise engineering teams can successfully adopt AI  \\nLearn how to bring AI to your engineering teams and maximize the value that you get from it.  \\nLearn more  \\nNews & insights  \\nNews & insights  \\nKeep up with what’s new and notable from inside GitHub.  \\nCompany news  \\nAn inside look at news and product updates from GitHub.  \\nProduct  \\nThe latest on GitHub’s platform, products, and tools.  \\nOctoverse  \\nInsights into the state of open source on GitHub.  \\nPolicy  \\nThe latest policy and regulatory changes in software.  \\nResearch  \\nData-driven insights around the developer ecosystem.  \\nThe library  \\nOlder news and updates from GitHub.  \\nUnlocking the power of unstructured data with RAG  \\nLearn how to use retrieval-augmented generation (RAG) to capture more insights.  \\nLearn more  \\nOpen Source  \\nOpen Source  \\nEverything open source on GitHub.  \\nGit  \\nThe latest Git updates.  \\nMaintainers  \\nSpotlighting open source maintainers.  \\nSocial impact  \\nHow open source is driving positive change.  \\nGaming  \\nExplore open source games on GitHub.  \\nAn introduction to innersource  \\nOrganizations worldwide are incorporating open source methodologies into the way they build and ship their own software.  \\nLearn more  \\nSecurity  \\nSecurity  \\nStay up to date on everything security.  \\nApplication security  \\nApplication security, explained.  \\nSupply chain security  \\nDemystifying supply chain security.  \\nVulnerability research  \\nUpdates from the GitHub Security Lab.  \\nWeb application security  \\nHelpful tips on securing web applications.  \\nThe enterprise guide to AI-powered DevSecOps  \\nLearn about core challenges in DevSecOps, and how you can start addressing them with AI and automation.  \\nLearn more  \\nSearch'),\n",
       " Document(metadata={'Header 2': 'Categories'}, page_content='Categories'),\n",
       " Document(metadata={'Header 2': 'Categories'}, page_content='AI & ML  \\nBack  \\nAI & ML  \\nLearn about artificial intelligence and machine learning across the GitHub ecosystem and the wider industry.  \\nGenerative AI  \\nLearn how to build with generative AI.  \\nGitHub Copilot  \\nChange how you work with GitHub Copilot.  \\nLLMs  \\nEverything developers need to know about LLMs.  \\nMachine learning  \\nMachine learning tips, tricks, and best practices.  \\nHow AI code generation works  \\nExplore the capabilities and benefits of AI code generation and how it can improve your developer experience.  \\nLearn more  \\nDeveloper skills  \\nBack  \\nDeveloper skills  \\nResources for developers to grow in their skills and careers.  \\nApplication development  \\nInsights and best practices for building apps.  \\nCareer growth  \\nTips & tricks to grow as a professional developer.  \\nGitHub  \\nImprove how you use GitHub at work.  \\nGitHub Education  \\nLearn how to move into your first professional role.  \\nProgramming languages & frameworks  \\nStay current on what’s new (or new again).  \\nGet started with GitHub documentation  \\nLearn how to start building, shipping, and maintaining software with GitHub.  \\nLearn more  \\nEngineering  \\nBack  \\nEngineering  \\nGet an inside look at how we’re building the home for all developers.  \\nArchitecture & optimization  \\nDiscover how we deliver a performant and highly available experience across the GitHub platform.  \\nEngineering principles  \\nExplore best practices for building software at scale with a majority remote team.  \\nInfrastructure  \\nGet a glimpse at the technology underlying the world’s leading AI-powered developer platform.  \\nPlatform security  \\nLearn how we build security into everything we do across the developer lifecycle.  \\nUser experience  \\nFind out what goes into making GitHub the home for all developers.  \\nHow we use GitHub to be more productive, collaborative, and secure  \\nOur engineering and security teams do some incredible work. Let’s take a look at how we use GitHub to be more productive, build collaboratively, and shift security left.  \\nLearn more  \\nEnterprise software  \\nBack  \\nEnterprise software  \\nExplore how to write, build, and deploy enterprise software at scale.  \\nAutomation  \\nAutomating your way to faster and more secure ships.  \\nCI/CD  \\nGuides on continuous integration and delivery.  \\nCollaboration  \\nTips, tools, and tricks to improve developer collaboration.  \\nDevOps  \\nDevOps resources for enterprise engineering teams.  \\nDevSecOps  \\nHow to integrate security into the SDLC.  \\nGovernance & compliance  \\nEnsuring your builds stay clean.  \\nHow enterprise engineering teams can successfully adopt AI  \\nLearn how to bring AI to your engineering teams and maximize the value that you get from it.  \\nLearn more  \\nNews & insights  \\nBack  \\nNews & insights  \\nKeep up with what’s new and notable from inside GitHub.  \\nCompany news  \\nAn inside look at news and product updates from GitHub.  \\nProduct  \\nThe latest on GitHub’s platform, products, and tools.  \\nOctoverse  \\nInsights into the state of open source on GitHub.  \\nPolicy  \\nThe latest policy and regulatory changes in software.  \\nResearch  \\nData-driven insights around the developer ecosystem.  \\nThe library  \\nOlder news and updates from GitHub.  \\nUnlocking the power of unstructured data with RAG  \\nLearn how to use retrieval-augmented generation (RAG) to capture more insights.  \\nLearn more  \\nOpen Source  \\nBack  \\nOpen Source  \\nEverything open source on GitHub.  \\nGit  \\nThe latest Git updates.  \\nMaintainers  \\nSpotlighting open source maintainers.  \\nSocial impact  \\nHow open source is driving positive change.  \\nGaming  \\nExplore open source games on GitHub.  \\nAn introduction to innersource  \\nOrganizations worldwide are incorporating open source methodologies into the way they build and ship their own software.  \\nLearn more  \\nSecurity  \\nBack  \\nSecurity  \\nStay up to date on everything security.  \\nApplication security  \\nApplication security, explained.  \\nSupply chain security  \\nDemystifying supply chain security.  \\nVulnerability research  \\nUpdates from the GitHub Security Lab.  \\nWeb application security  \\nHelpful tips on securing web applications.  \\nThe enterprise guide to AI-powered DevSecOps  \\nLearn about core challenges in DevSecOps, and how you can start addressing them with AI and automation.  \\nLearn more  \\nChangelog  \\nDocs  \\nCustomer stories  \\nAttend GitHub Universe  \\nUse Copilot for free  \\nHome  \\n/  \\nNews & insights  \\n/  \\nProduct'),\n",
       " Document(metadata={'Header 1': 'From pair to peer programmer: Our vision for agentic workflows in GitHub Copilot'}, page_content='From pair to peer programmer: Our vision for agentic workflows in GitHub Copilot'),\n",
       " Document(metadata={}, page_content='AI agents in GitHub Copilot don’t just assist developers but actively solve problems through multi-step reasoning and execution. Here’s what that means.  \\nTim Rogers  \\n·  \\n@timrogers  \\nJune 25, 2025  \\n5 minutes  \\n|  \\nShare:  \\nhtml PUBLIC \"-//W3C//DTD HTML 4.0 Transitional//EN\" \"http://www.w3.org/TR/REC-html40/loose.dtd\"  \\nSoftware development has always been a deeply human, collaborative process. When we introduced in 2021 as an “ ,” it was designed to help developers stay in the flow, reduce boilerplate work, and accelerate coding.  \\nGitHub Copilot  \\nAI pair programmer  \\nBut what if Copilot could be more than just an assistant? What if it could actively collaborate with you—working alongside you on synchronous tasks, tackling issues independently, and even reviewing your code?  \\nThat’s the future we’re building.'),\n",
       " Document(metadata={'Header 2': 'Our vision for what’s next'}, page_content='Our vision for what’s next'),\n",
       " Document(metadata={'Header 2': 'Our vision for what’s next'}, page_content='Today, AI agents in GitHub Copilot don’t just assist developers but actively solve problems through multi-step reasoning and execution. These agents are capable of:  \\nCopilot will break down complex tasks and take the necessary steps to solve them, providing updates along the way.  \\nIndependent problem solving:  \\nWhether working in sync with you or independently in the background, Copilot will iterate on its own outputs to drive progress.  \\nAdaptive collaboration:  \\nCopilot will proactively assist with tasks like issue resolution, testing, and code reviews, ensuring higher-quality, maintainable code.  \\nProactive code quality:  \\nRather than fitting neatly into synchronous or asynchronous categories, the future of Copilot lies in its ability to flexibly transition between modes—executing tasks independently while keeping you informed and in control. This evolution will allow you to focus on higher-level decision-making while Copilot takes on more of the execution.  \\nLet’s explore what’s already here—and what’s coming next.'),\n",
       " Document(metadata={'Header 2': 'Our vision for what’s next', 'Header 3': 'Why independent agents—and why now?'}, page_content='Why independent agents—and why now?'),\n",
       " Document(metadata={'Header 2': 'Our vision for what’s next', 'Header 3': 'Why independent agents—and why now?'}, page_content='Modern development isn’t linear. We context switch between features, bug fixes, dependency bumps, and reviews every day. A truly useful AI must:  \\n: plan multi‑step tasks and execute them without hand holding.  \\nAct independently  \\n: share its plan and progress, so you can intervene instantly.  \\nStay transparent  \\n: test its own work and explain every change.  \\nEarn trust  \\nCopilot’s new is designed around these guardrails.  \\nagentic architecture'),\n",
       " Document(metadata={'Header 2': 'Copilot in action: Taking steps toward our vision'}, page_content='Copilot in action: Taking steps toward our vision'),\n",
       " Document(metadata={'Header 2': 'Copilot in action: Taking steps toward our vision', 'Header 3': 'Agent mode: A real-time AI teammate inside your IDE'}, page_content='Agent mode: A real-time AI teammate inside your IDE'),\n",
       " Document(metadata={'Header 2': 'Copilot in action: Taking steps toward our vision', 'Header 3': 'Agent mode: A real-time AI teammate inside your IDE'}, page_content='If you’ve used (and you should, because it’s fantastic), you’ve already experienced an independent AI agent at work.  \\nagent mode with GitHub Copilot  \\nAgent mode lives where you code and feels like handing your computer to a teammate for a minute: it types on your screen while you look on, and can grab the mouse. When you prompt it, the agent takes control, works through the problem, and reports its work back to you with regular check-in points. It can:  \\nto understand context.  \\nRead your entire workspace  \\n(and show you the plan first).  \\nPlan multi‑step fixes or refactors  \\nin a tight feedback loop.  \\nApply changes, run tests, and iterate  \\nwhenever intent is ambiguous.  \\nAsk for guidance  \\nthrough an “agentic loop”—planning, applying changes, testing, and iterating.  \\nRun and refine its own work  \\nRather than just responding to requests, Copilot in agent mode actively works toward your goal. You define the outcome, and it determines the best approach—seeking feedback from you as needed, testing its own solutions, and refining its work in real time.  \\nThink of it as pair programming in fast forward: you’re watching the task unfold in real time, free to jump in or redirect at any step. ✨'),\n",
       " Document(metadata={'Header 2': 'Copilot in action: Taking steps toward our vision', 'Header 3': 'Coding agent: An AI teammate that works while you don’t'}, page_content='Coding agent: An AI teammate that works while you don’t'),\n",
       " Document(metadata={'Header 2': 'Copilot in action: Taking steps toward our vision', 'Header 3': 'Coding agent: An AI teammate that works while you don’t'}, page_content='Not all coding happens in real time. Sometimes, you need to hand off tasks to a teammate and check back later.  \\nThat’s where comes in—and it’s our first step in transforming Copilot into an independent agent. Coding agent spins up its in the cloud. You can assign multiple issues to Copilot, then dive into other work (or grab a cup of coffee!) while it handles the heavy lifting. It can:  \\nour coding agent  \\nown secure dev environment  \\nin isolation.  \\nClone your repo and bootstrap tooling  \\n, implement changes, and write or update tests.  \\nBreak the issue into steps  \\nby running your tests and linter.  \\nValidate its work  \\nand iterate based on your PR review comments.  \\nOpen a draft PR  \\nso you can peek in—or jump in—any time.  \\nStream progress updates  \\nWorking with coding agent is like asking a teammate in another room—with their own laptop and setup—to tackle an issue. You’re free to work on something else, but you can pop in for status or feedback whenever you like.'),\n",
       " Document(metadata={'Header 2': 'Less TODO, more done: The next stage of Copilot’s agentic future'}, page_content='Less TODO, more done: The next stage of Copilot’s agentic future'),\n",
       " Document(metadata={'Header 2': 'Less TODO, more done: The next stage of Copilot’s agentic future'}, page_content='The next stage of Copilot is being built on three converging pillars:  \\nOngoing breakthroughs in large language models keep driving accuracy up while pushing latency and cost down. Expanded context windows now span entire monoliths, giving Copilot the long-range “memory” it needs to reason through complex codebases and return answers grounded in your real code.  \\nSmarter, leaner models.  \\nCopilot increasingly understands the full story behind your work—issues, pull-request history, dependency graphs, even private runbooks and API specs (via MCP). By tapping this richer context, it can suggest changes that align with project intent, not just syntax.  \\nDeeper contextual awareness.  \\nWe’re designing Copilot to slot into stack—not the other way around. You choose the editor, models, and tools; Copilot plugs in, learns your patterns, and amplifies them. You’re in the driver’s seat, steering the AI to build, test, and ship code faster than ever.  \\nOpen, composable foundation.  \\nyour  \\nTaken together, these pillars move Copilot beyond a single assistant toward a flexible AI teammate—one that can help any team, from three developers in a garage to thousands in a global enterprise, plan, code, test, and ship with less friction and more speed.  \\nSo, get ready for what’s next. The next wave is already on its way.  \\nabout  \\nLearn more  \\nGitHub Copilot >'),\n",
       " Document(metadata={'Header 2': 'Tags:'}, page_content='Tags:'),\n",
       " Document(metadata={'Header 2': 'Tags:'}, page_content='agentic AI  \\ngenerative AI  \\nGitHub Copilot'),\n",
       " Document(metadata={'Header 2': 'Written by'}, page_content='Written by'),\n",
       " Document(metadata={'Header 2': 'Written by'}, page_content='Tim Rogers  \\n@timrogers  \\nStaff Product Manager  \\nagentic AI  \\ngenerative AI  \\nGitHub Copilot'),\n",
       " Document(metadata={'Header 2': 'Table of Contents'}, page_content='Table of Contents'),\n",
       " Document(metadata={'Header 2': 'Table of Contents'}, page_content='Our vision for what’s next  \\nCopilot in action: Taking steps toward our vision  \\nLess TODO, more done: The next stage of Copilot’s agentic future'),\n",
       " Document(metadata={'Header 2': 'More on'}, page_content='More on'),\n",
       " Document(metadata={'Header 2': 'More on'}, page_content='agentic AI  \\nGitHub Copilot: Meet the new coding agent  \\nImplementing features has never been easier: Just assign a task or issue to Copilot. It runs in the background with GitHub Actions and submits its work as a pull request.  \\nThomas Dohmke  \\nGitHub Copilot: The agent awakens  \\nIntroducing agent mode for GitHub Copilot in VS Code, announcing the general availability of Copilot Edits, and providing a first look at our SWE agent.  \\nThomas Dohmke'),\n",
       " Document(metadata={'Header 2': 'Related posts'}, page_content='Related posts'),\n",
       " Document(metadata={'Header 2': 'Related posts'}, page_content='Company news  \\nGitHub Availability Report: May 2025  \\nIn May, we experienced three incidents that resulted in degraded performance across GitHub services.  \\nJakub Oleksy  \\nCompany news  \\nGitHub Universe 2025: Here’s what’s in store at this year’s developer wonderland  \\nSharpen your skills, test out new tools, and connect with people who build like you.  \\nJeimy Ruiz  \\nNews & insights  \\nGitHub Copilot: Meet the new coding agent  \\nImplementing features has never been easier: Just assign a task or issue to Copilot. It runs in the background with GitHub Actions and submits its work as a pull request.  \\nThomas Dohmke'),\n",
       " Document(metadata={'Header 2': 'Explore more from GitHub'}, page_content='Explore more from GitHub'),\n",
       " Document(metadata={'Header 2': 'Explore more from GitHub', 'Header 3': 'Docs'}, page_content='Docs'),\n",
       " Document(metadata={'Header 2': 'Explore more from GitHub', 'Header 3': 'Docs'}, page_content='Everything you need to master GitHub, all in one place.  \\nGo to Docs'),\n",
       " Document(metadata={'Header 2': 'Explore more from GitHub', 'Header 3': 'GitHub'}, page_content='GitHub'),\n",
       " Document(metadata={'Header 2': 'Explore more from GitHub', 'Header 3': 'GitHub'}, page_content='Build what’s next on GitHub, the place for anyone from anywhere to build anything.  \\nStart building'),\n",
       " Document(metadata={'Header 2': 'Explore more from GitHub', 'Header 3': 'Customer stories'}, page_content='Customer stories'),\n",
       " Document(metadata={'Header 2': 'Explore more from GitHub', 'Header 3': 'Customer stories'}, page_content='Meet the companies and engineering teams that build with GitHub.  \\nLearn more'),\n",
       " Document(metadata={'Header 2': 'Explore more from GitHub', 'Header 3': 'GitHub Universe 2025'}, page_content='GitHub Universe 2025'),\n",
       " Document(metadata={'Header 2': 'Explore more from GitHub', 'Header 3': 'GitHub Universe 2025'}, page_content='Last chance: Save $700 on your IRL pass to Universe and join us on Oct. 28-29 in San Francisco.  \\nRegister now >'),\n",
       " Document(metadata={'Header 2': 'We do newsletters, too'}, page_content='We do newsletters, too'),\n",
       " Document(metadata={'Header 2': 'We do newsletters, too'}, page_content='Discover tips, technical guides, and best practices in our biweekly newsletter just for devs.  \\nYour email address  \\n*  \\nYour email address  \\nSubscribe  \\nYes please, I’d like GitHub and affiliates to use my information for personalized communications, targeted advertising and campaign effectiveness. See the for more details.  \\nGitHub Privacy Statement  \\nSubscribe'),\n",
       " Document(metadata={'Header 2': 'Product'}, page_content='Product'),\n",
       " Document(metadata={'Header 2': 'Product'}, page_content='Features  \\nSecurity  \\nEnterprise  \\nCustomer Stories  \\nPricing  \\nResources'),\n",
       " Document(metadata={'Header 2': 'Platform'}, page_content='Platform'),\n",
       " Document(metadata={'Header 2': 'Platform'}, page_content='Developer API  \\nPartners  \\nAtom  \\nElectron  \\nGitHub Desktop'),\n",
       " Document(metadata={'Header 2': 'Support'}, page_content='Support'),\n",
       " Document(metadata={'Header 2': 'Support'}, page_content='Docs  \\nCommunity Forum  \\nTraining  \\nStatus  \\nContact'),\n",
       " Document(metadata={'Header 2': 'Company'}, page_content='Company'),\n",
       " Document(metadata={}, page_content='About  \\nBlog  \\nCareers  \\nPress  \\nShop  \\n© 2025 GitHub, Inc.  \\nTerms  \\nPrivacy  \\nManage Cookies  \\nDo not share my personal information  \\nLinkedIn icon  \\nGitHub on LinkedIn  \\nInstagram icon  \\nGitHub on Instagram  \\nYouTube icon  \\nGitHub on YouTube  \\nX icon  \\nGitHub on X  \\nTikTok icon  \\nGitHub on TikTok  \\nTwitch icon  \\nGitHub on Twitch  \\nGitHub icon  \\nGitHub’s organization on GitHub  \\n{\"prefetch\":[{\"source\":\"document\",\"where\":{\"and\":[{\"href_matches\":\"\\\\/*\"},{\"not\":{\"href_matches\":[\"\\\\/wp-*.php\",\"\\\\/wp-admin\\\\/*\",\"\\\\/wp-content\\\\/uploads\\\\/*\",\"\\\\/wp-content\\\\/*\",\"\\\\/wp-content\\\\/plugins\\\\/*\",\"\\\\/wp-content\\\\/themes\\\\/github-2021-child\\\\/*\",\"\\\\/wp-content\\\\/themes\\\\/github-2021\\\\/*\",\"\\\\/*\\\\\\\\?(.+)\"]}},{\"not\":{\"selector_matches\":\"a[rel~=\\\\\"nofollow\\\\\"]\"}},{\"not\":{\"selector_matches\":\".no-prefetch, .no-prefetch a\"}}]},\"eagerness\":\"conservative\"}]}  \\n:root :where(.wp-block-group.is-style-light-dimmed--1){background-color: var(--bgColor-default);}  \\n.is-typography-preset-h1{font-size:var(--base-size-36, 36px);font-weight:700;line-height:1.25;margin-block-end:20px;margin-block-start:0;}.is-typography-preset-h2{font-size:var(--base-size-32, 32px);font-weight:700;line-height:1.25;margin-block-end:20px;margin-block-start:40px;}.is-typography-preset-h3{font-size:var(--base-size-28, 28px);font-weight:700;line-height:1.25;margin-block-end:12px;margin-block-start:20px;}.is-typography-preset-h4{font-size:var(--base-size-24, 24px);font-weight:700;line-height:1.25;margin-block-end:12px;margin-block-start:20px;}.is-typography-preset-h5{font-size:var(--base-size-20, 20px);font-weight:700;line-height:1.25;margin-block-end:12px;margin-block-start:20px;}.is-typography-preset-h6{font-size:var(--base-size-18, 18px);font-weight:700;line-height:1.25;margin-block-end:0;margin-block-start:20px;}.is-typography-preset-display{font:var(--text-display-shorthand);}.is-typography-preset-title-large{font:var(--text-title-shorthand-large);}.is-typography-preset-title-medium{font:var(--text-title-shorthand-medium);}.is-typography-preset-title-small{font:var(--text-title-shorthand-small);}.is-typography-preset-subtitle{font:var(--text-subtitle-shorthand);}.is-typography-preset-body-large{font:var(--text-body-shorthand-large);}.is-typography-preset-body-medium{font:var(--text-body-shorthand-medium);}.is-typography-preset-body-small{font:var(--text-body-shorthand-small);}  \\nwp.i18n.setLocaleData( { \\'text direction\\\\u0004ltr\\': [ \\'ltr\\' ] } );  \\nwp.apiFetch.use( wp.apiFetch.createRootURLMiddleware( \"https://github.blog/wp-json/\" ) );\\nwp.apiFetch.nonceMiddleware = wp.apiFetch.createNonceMiddleware( \"eb7de8ab4d\" );\\nwp.apiFetch.use( wp.apiFetch.nonceMiddleware );\\nwp.apiFetch.use( wp.apiFetch.mediaUploadMiddleware );\\nwp.apiFetch.nonceEndpoint = \"https://github.blog/wp-admin/admin-ajax.php?action=rest-nonce\";  \\nhljs.highlightAll()  \\n_stq = window._stq || [];\\n_stq.push([ \"view\", JSON.parse(\"{\\\\\"v\\\\\":\\\\\"ext\\\\\",\\\\\"blog\\\\\":\\\\\"153214340\\\\\",\\\\\"post\\\\\":\\\\\"88977\\\\\",\\\\\"tz\\\\\":\\\\\"-7\\\\\",\\\\\"srv\\\\\":\\\\\"github.blog\\\\\",\\\\\"hp\\\\\":\\\\\"vip\\\\\",\\\\\"j\\\\\":\\\\\"1:14.7\\\\\"}\") ]);\\n_stq.push([ \"clickTrackerInit\", \"153214340\", \"88977\" ]);')]"
      ]
     },
     "execution_count": 16,
     "metadata": {},
     "output_type": "execute_result"
    }
   ],
   "source": [
    "url = \"https://github.blog/news-insights/product-news/from-pair-to-peer-programmer-our-vision-for-agentic-workflows-in-github-copilot/\"\n",
    "header_to_split_on = [\n",
    "    (\"h1\",\"Header 1\"),\n",
    "    (\"h2\",\"Header 2\"),\n",
    "    (\"h3\",\"Header 3\"),\n",
    "    (\"h4\",\"Header 4\")\n",
    "    ]\n",
    "\n",
    "html_Splitter = HTMLHeaderTextSplitter(header_to_split_on)\n",
    "html_header_Splits = html_Splitter.split_text_from_url(url)\n",
    "html_header_Splits"
   ]
  },
  {
   "cell_type": "code",
   "execution_count": null,
   "id": "82e434a2",
   "metadata": {},
   "outputs": [],
   "source": [
    " "
   ]
  }
 ],
 "metadata": {
  "kernelspec": {
   "display_name": "Python 3",
   "language": "python",
   "name": "python3"
  },
  "language_info": {
   "codemirror_mode": {
    "name": "ipython",
    "version": 3
   },
   "file_extension": ".py",
   "mimetype": "text/x-python",
   "name": "python",
   "nbconvert_exporter": "python",
   "pygments_lexer": "ipython3",
   "version": "3.10.11"
  }
 },
 "nbformat": 4,
 "nbformat_minor": 5
}
