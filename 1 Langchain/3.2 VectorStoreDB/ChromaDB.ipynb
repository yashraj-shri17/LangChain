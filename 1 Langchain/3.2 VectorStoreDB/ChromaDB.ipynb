{
 "cells": [
  {
   "cell_type": "code",
   "execution_count": 1,
   "id": "dee4afef",
   "metadata": {},
   "outputs": [
    {
     "name": "stdout",
     "output_type": "stream",
     "text": [
      "Collecting langchain-ollama\n",
      "  Obtaining dependency information for langchain-ollama from https://files.pythonhosted.org/packages/84/6f/ab7a470522e27b95ed008eb9ef81b1ab55321f3f3aff21ca0109aae53cdf/langchain_ollama-0.3.3-py3-none-any.whl.metadata\n",
      "  Downloading langchain_ollama-0.3.3-py3-none-any.whl.metadata (1.5 kB)\n",
      "Collecting ollama<1.0.0,>=0.4.8 (from langchain-ollama)\n",
      "  Obtaining dependency information for ollama<1.0.0,>=0.4.8 from https://files.pythonhosted.org/packages/d6/76/3f96c8cdbf3955d7a73ee94ce3e0db0755d6de1e0098a70275940d1aff2f/ollama-0.5.1-py3-none-any.whl.metadata\n",
      "  Downloading ollama-0.5.1-py3-none-any.whl.metadata (4.3 kB)\n",
      "Requirement already satisfied: langchain-core<1.0.0,>=0.3.60 in c:\\users\\des\\anaconda3\\lib\\site-packages (from langchain-ollama) (0.3.66)\n",
      "Requirement already satisfied: langsmith>=0.3.45 in c:\\users\\des\\anaconda3\\lib\\site-packages (from langchain-core<1.0.0,>=0.3.60->langchain-ollama) (0.4.4)\n",
      "Requirement already satisfied: tenacity!=8.4.0,<10.0.0,>=8.1.0 in c:\\users\\des\\anaconda3\\lib\\site-packages (from langchain-core<1.0.0,>=0.3.60->langchain-ollama) (9.1.2)\n",
      "Requirement already satisfied: jsonpatch<2.0,>=1.33 in c:\\users\\des\\anaconda3\\lib\\site-packages (from langchain-core<1.0.0,>=0.3.60->langchain-ollama) (1.33)\n",
      "Requirement already satisfied: PyYAML>=5.3 in c:\\users\\des\\anaconda3\\lib\\site-packages (from langchain-core<1.0.0,>=0.3.60->langchain-ollama) (6.0)\n",
      "Requirement already satisfied: packaging<25,>=23.2 in c:\\users\\des\\anaconda3\\lib\\site-packages (from langchain-core<1.0.0,>=0.3.60->langchain-ollama) (24.2)\n",
      "Requirement already satisfied: typing-extensions>=4.7 in c:\\users\\des\\anaconda3\\lib\\site-packages (from langchain-core<1.0.0,>=0.3.60->langchain-ollama) (4.12.2)\n",
      "Requirement already satisfied: pydantic>=2.7.4 in c:\\users\\des\\anaconda3\\lib\\site-packages (from langchain-core<1.0.0,>=0.3.60->langchain-ollama) (2.10.6)\n",
      "Requirement already satisfied: httpx>=0.27 in c:\\users\\des\\anaconda3\\lib\\site-packages (from ollama<1.0.0,>=0.4.8->langchain-ollama) (0.28.1)\n",
      "Requirement already satisfied: anyio in c:\\users\\des\\anaconda3\\lib\\site-packages (from httpx>=0.27->ollama<1.0.0,>=0.4.8->langchain-ollama) (3.7.1)\n",
      "Requirement already satisfied: certifi in c:\\users\\des\\anaconda3\\lib\\site-packages (from httpx>=0.27->ollama<1.0.0,>=0.4.8->langchain-ollama) (2023.11.17)\n",
      "Requirement already satisfied: httpcore==1.* in c:\\users\\des\\anaconda3\\lib\\site-packages (from httpx>=0.27->ollama<1.0.0,>=0.4.8->langchain-ollama) (1.0.7)\n",
      "Requirement already satisfied: idna in c:\\users\\des\\anaconda3\\lib\\site-packages (from httpx>=0.27->ollama<1.0.0,>=0.4.8->langchain-ollama) (3.4)\n",
      "Requirement already satisfied: h11<0.15,>=0.13 in c:\\users\\des\\anaconda3\\lib\\site-packages (from httpcore==1.*->httpx>=0.27->ollama<1.0.0,>=0.4.8->langchain-ollama) (0.14.0)\n",
      "Requirement already satisfied: jsonpointer>=1.9 in c:\\users\\des\\anaconda3\\lib\\site-packages (from jsonpatch<2.0,>=1.33->langchain-core<1.0.0,>=0.3.60->langchain-ollama) (2.1)\n",
      "Requirement already satisfied: orjson<4.0.0,>=3.9.14 in c:\\users\\des\\anaconda3\\lib\\site-packages (from langsmith>=0.3.45->langchain-core<1.0.0,>=0.3.60->langchain-ollama) (3.10.15)\n",
      "Requirement already satisfied: requests<3,>=2 in c:\\users\\des\\anaconda3\\lib\\site-packages (from langsmith>=0.3.45->langchain-core<1.0.0,>=0.3.60->langchain-ollama) (2.32.4)\n",
      "Requirement already satisfied: requests-toolbelt<2.0.0,>=1.0.0 in c:\\users\\des\\anaconda3\\lib\\site-packages (from langsmith>=0.3.45->langchain-core<1.0.0,>=0.3.60->langchain-ollama) (1.0.0)\n",
      "Requirement already satisfied: zstandard<0.24.0,>=0.23.0 in c:\\users\\des\\anaconda3\\lib\\site-packages (from langsmith>=0.3.45->langchain-core<1.0.0,>=0.3.60->langchain-ollama) (0.23.0)\n",
      "Requirement already satisfied: annotated-types>=0.6.0 in c:\\users\\des\\anaconda3\\lib\\site-packages (from pydantic>=2.7.4->langchain-core<1.0.0,>=0.3.60->langchain-ollama) (0.7.0)\n",
      "Requirement already satisfied: pydantic-core==2.27.2 in c:\\users\\des\\anaconda3\\lib\\site-packages (from pydantic>=2.7.4->langchain-core<1.0.0,>=0.3.60->langchain-ollama) (2.27.2)\n",
      "Requirement already satisfied: charset_normalizer<4,>=2 in c:\\users\\des\\anaconda3\\lib\\site-packages (from requests<3,>=2->langsmith>=0.3.45->langchain-core<1.0.0,>=0.3.60->langchain-ollama) (2.0.4)\n",
      "Requirement already satisfied: urllib3<3,>=1.21.1 in c:\\users\\des\\anaconda3\\lib\\site-packages (from requests<3,>=2->langsmith>=0.3.45->langchain-core<1.0.0,>=0.3.60->langchain-ollama) (1.26.16)\n",
      "Requirement already satisfied: sniffio>=1.1 in c:\\users\\des\\anaconda3\\lib\\site-packages (from anyio->httpx>=0.27->ollama<1.0.0,>=0.4.8->langchain-ollama) (1.3.1)\n",
      "Downloading langchain_ollama-0.3.3-py3-none-any.whl (21 kB)\n",
      "Downloading ollama-0.5.1-py3-none-any.whl (13 kB)\n",
      "Installing collected packages: ollama, langchain-ollama\n",
      "Successfully installed langchain-ollama-0.3.3 ollama-0.5.1\n"
     ]
    }
   ],
   "source": [
    "!pip install -U langchain-ollama"
   ]
  },
  {
   "cell_type": "code",
   "execution_count": 1,
   "id": "54ee0dee",
   "metadata": {},
   "outputs": [
    {
     "name": "stdout",
     "output_type": "stream",
     "text": [
      "Requirement already satisfied: langchain_chroma in c:\\users\\des\\anaconda3\\lib\\site-packages (0.2.4)\n",
      "Requirement already satisfied: langchain-core>=0.3.60 in c:\\users\\des\\anaconda3\\lib\\site-packages (from langchain_chroma) (0.3.66)\n",
      "Requirement already satisfied: numpy>=1.26.0 in c:\\users\\des\\anaconda3\\lib\\site-packages (from langchain_chroma) (1.26.4)\n",
      "Requirement already satisfied: chromadb>=1.0.9 in c:\\users\\des\\anaconda3\\lib\\site-packages (from langchain_chroma) (1.0.13)\n",
      "Requirement already satisfied: build>=1.0.3 in c:\\users\\des\\anaconda3\\lib\\site-packages (from chromadb>=1.0.9->langchain_chroma) (1.2.2.post1)\n",
      "Requirement already satisfied: pydantic>=1.9 in c:\\users\\des\\anaconda3\\lib\\site-packages (from chromadb>=1.0.9->langchain_chroma) (2.10.6)\n",
      "Requirement already satisfied: pybase64>=1.4.1 in c:\\users\\des\\anaconda3\\lib\\site-packages (from chromadb>=1.0.9->langchain_chroma) (1.4.1)\n",
      "Requirement already satisfied: uvicorn[standard]>=0.18.3 in c:\\users\\des\\anaconda3\\lib\\site-packages (from chromadb>=1.0.9->langchain_chroma) (0.34.0)\n",
      "Requirement already satisfied: posthog>=2.4.0 in c:\\users\\des\\anaconda3\\lib\\site-packages (from chromadb>=1.0.9->langchain_chroma) (6.0.0)\n",
      "Requirement already satisfied: typing-extensions>=4.5.0 in c:\\users\\des\\anaconda3\\lib\\site-packages (from chromadb>=1.0.9->langchain_chroma) (4.12.2)\n",
      "Requirement already satisfied: onnxruntime>=1.14.1 in c:\\users\\des\\anaconda3\\lib\\site-packages (from chromadb>=1.0.9->langchain_chroma) (1.22.0)\n",
      "Requirement already satisfied: opentelemetry-api>=1.2.0 in c:\\users\\des\\anaconda3\\lib\\site-packages (from chromadb>=1.0.9->langchain_chroma) (1.34.1)\n",
      "Requirement already satisfied: opentelemetry-exporter-otlp-proto-grpc>=1.2.0 in c:\\users\\des\\anaconda3\\lib\\site-packages (from chromadb>=1.0.9->langchain_chroma) (1.34.1)\n",
      "Requirement already satisfied: opentelemetry-sdk>=1.2.0 in c:\\users\\des\\anaconda3\\lib\\site-packages (from chromadb>=1.0.9->langchain_chroma) (1.34.1)\n",
      "Requirement already satisfied: tokenizers>=0.13.2 in c:\\users\\des\\anaconda3\\lib\\site-packages (from chromadb>=1.0.9->langchain_chroma) (0.21.2)\n",
      "Requirement already satisfied: pypika>=0.48.9 in c:\\users\\des\\anaconda3\\lib\\site-packages (from chromadb>=1.0.9->langchain_chroma) (0.48.9)\n",
      "Requirement already satisfied: tqdm>=4.65.0 in c:\\users\\des\\anaconda3\\lib\\site-packages (from chromadb>=1.0.9->langchain_chroma) (4.65.0)\n",
      "Requirement already satisfied: overrides>=7.3.1 in c:\\users\\des\\anaconda3\\lib\\site-packages (from chromadb>=1.0.9->langchain_chroma) (7.7.0)\n",
      "Requirement already satisfied: importlib-resources in c:\\users\\des\\anaconda3\\lib\\site-packages (from chromadb>=1.0.9->langchain_chroma) (6.5.2)\n",
      "Requirement already satisfied: grpcio>=1.58.0 in c:\\users\\des\\anaconda3\\lib\\site-packages (from chromadb>=1.0.9->langchain_chroma) (1.70.0)\n",
      "Requirement already satisfied: bcrypt>=4.0.1 in c:\\users\\des\\anaconda3\\lib\\site-packages (from chromadb>=1.0.9->langchain_chroma) (4.3.0)\n",
      "Requirement already satisfied: typer>=0.9.0 in c:\\users\\des\\anaconda3\\lib\\site-packages (from chromadb>=1.0.9->langchain_chroma) (0.15.2)\n",
      "Requirement already satisfied: kubernetes>=28.1.0 in c:\\users\\des\\anaconda3\\lib\\site-packages (from chromadb>=1.0.9->langchain_chroma) (33.1.0)\n",
      "Requirement already satisfied: tenacity>=8.2.3 in c:\\users\\des\\anaconda3\\lib\\site-packages (from chromadb>=1.0.9->langchain_chroma) (9.1.2)\n",
      "Requirement already satisfied: pyyaml>=6.0.0 in c:\\users\\des\\anaconda3\\lib\\site-packages (from chromadb>=1.0.9->langchain_chroma) (6.0)\n",
      "Requirement already satisfied: mmh3>=4.0.1 in c:\\users\\des\\anaconda3\\lib\\site-packages (from chromadb>=1.0.9->langchain_chroma) (5.1.0)\n",
      "Requirement already satisfied: orjson>=3.9.12 in c:\\users\\des\\anaconda3\\lib\\site-packages (from chromadb>=1.0.9->langchain_chroma) (3.10.15)\n",
      "Requirement already satisfied: httpx>=0.27.0 in c:\\users\\des\\anaconda3\\lib\\site-packages (from chromadb>=1.0.9->langchain_chroma) (0.28.1)\n",
      "Requirement already satisfied: rich>=10.11.0 in c:\\users\\des\\anaconda3\\lib\\site-packages (from chromadb>=1.0.9->langchain_chroma) (13.9.4)\n",
      "Requirement already satisfied: jsonschema>=4.19.0 in c:\\users\\des\\anaconda3\\lib\\site-packages (from chromadb>=1.0.9->langchain_chroma) (4.24.0)\n",
      "Requirement already satisfied: langsmith>=0.3.45 in c:\\users\\des\\anaconda3\\lib\\site-packages (from langchain-core>=0.3.60->langchain_chroma) (0.4.4)\n",
      "Requirement already satisfied: jsonpatch<2.0,>=1.33 in c:\\users\\des\\anaconda3\\lib\\site-packages (from langchain-core>=0.3.60->langchain_chroma) (1.33)\n",
      "Requirement already satisfied: packaging<25,>=23.2 in c:\\users\\des\\anaconda3\\lib\\site-packages (from langchain-core>=0.3.60->langchain_chroma) (24.2)\n",
      "Requirement already satisfied: pyproject_hooks in c:\\users\\des\\anaconda3\\lib\\site-packages (from build>=1.0.3->chromadb>=1.0.9->langchain_chroma) (1.2.0)\n",
      "Requirement already satisfied: colorama in c:\\users\\des\\anaconda3\\lib\\site-packages (from build>=1.0.3->chromadb>=1.0.9->langchain_chroma) (0.4.6)\n",
      "Requirement already satisfied: anyio in c:\\users\\des\\anaconda3\\lib\\site-packages (from httpx>=0.27.0->chromadb>=1.0.9->langchain_chroma) (3.7.1)\n",
      "Requirement already satisfied: certifi in c:\\users\\des\\anaconda3\\lib\\site-packages (from httpx>=0.27.0->chromadb>=1.0.9->langchain_chroma) (2023.11.17)\n",
      "Requirement already satisfied: httpcore==1.* in c:\\users\\des\\anaconda3\\lib\\site-packages (from httpx>=0.27.0->chromadb>=1.0.9->langchain_chroma) (1.0.7)\n",
      "Requirement already satisfied: idna in c:\\users\\des\\anaconda3\\lib\\site-packages (from httpx>=0.27.0->chromadb>=1.0.9->langchain_chroma) (3.4)\n",
      "Requirement already satisfied: h11<0.15,>=0.13 in c:\\users\\des\\anaconda3\\lib\\site-packages (from httpcore==1.*->httpx>=0.27.0->chromadb>=1.0.9->langchain_chroma) (0.14.0)\n",
      "Requirement already satisfied: jsonpointer>=1.9 in c:\\users\\des\\anaconda3\\lib\\site-packages (from jsonpatch<2.0,>=1.33->langchain-core>=0.3.60->langchain_chroma) (2.1)\n",
      "Requirement already satisfied: attrs>=22.2.0 in c:\\users\\des\\anaconda3\\lib\\site-packages (from jsonschema>=4.19.0->chromadb>=1.0.9->langchain_chroma) (25.3.0)\n",
      "Requirement already satisfied: jsonschema-specifications>=2023.03.6 in c:\\users\\des\\anaconda3\\lib\\site-packages (from jsonschema>=4.19.0->chromadb>=1.0.9->langchain_chroma) (2025.4.1)\n",
      "Requirement already satisfied: referencing>=0.28.4 in c:\\users\\des\\anaconda3\\lib\\site-packages (from jsonschema>=4.19.0->chromadb>=1.0.9->langchain_chroma) (0.36.2)\n",
      "Requirement already satisfied: rpds-py>=0.7.1 in c:\\users\\des\\anaconda3\\lib\\site-packages (from jsonschema>=4.19.0->chromadb>=1.0.9->langchain_chroma) (0.25.1)\n",
      "Requirement already satisfied: six>=1.9.0 in c:\\users\\des\\anaconda3\\lib\\site-packages (from kubernetes>=28.1.0->chromadb>=1.0.9->langchain_chroma) (1.16.0)\n",
      "Requirement already satisfied: python-dateutil>=2.5.3 in c:\\users\\des\\anaconda3\\lib\\site-packages (from kubernetes>=28.1.0->chromadb>=1.0.9->langchain_chroma) (2.8.2)\n",
      "Requirement already satisfied: google-auth>=1.0.1 in c:\\users\\des\\anaconda3\\lib\\site-packages (from kubernetes>=28.1.0->chromadb>=1.0.9->langchain_chroma) (2.40.3)\n",
      "Requirement already satisfied: websocket-client!=0.40.0,!=0.41.*,!=0.42.*,>=0.32.0 in c:\\users\\des\\anaconda3\\lib\\site-packages (from kubernetes>=28.1.0->chromadb>=1.0.9->langchain_chroma) (1.8.0)\n",
      "Requirement already satisfied: requests in c:\\users\\des\\anaconda3\\lib\\site-packages (from kubernetes>=28.1.0->chromadb>=1.0.9->langchain_chroma) (2.32.4)\n",
      "Requirement already satisfied: requests-oauthlib in c:\\users\\des\\anaconda3\\lib\\site-packages (from kubernetes>=28.1.0->chromadb>=1.0.9->langchain_chroma) (2.0.0)\n",
      "Requirement already satisfied: oauthlib>=3.2.2 in c:\\users\\des\\anaconda3\\lib\\site-packages (from kubernetes>=28.1.0->chromadb>=1.0.9->langchain_chroma) (3.3.1)\n",
      "Requirement already satisfied: urllib3>=1.24.2 in c:\\users\\des\\anaconda3\\lib\\site-packages (from kubernetes>=28.1.0->chromadb>=1.0.9->langchain_chroma) (1.26.16)\n",
      "Requirement already satisfied: durationpy>=0.7 in c:\\users\\des\\anaconda3\\lib\\site-packages (from kubernetes>=28.1.0->chromadb>=1.0.9->langchain_chroma) (0.10)\n",
      "Requirement already satisfied: requests-toolbelt<2.0.0,>=1.0.0 in c:\\users\\des\\anaconda3\\lib\\site-packages (from langsmith>=0.3.45->langchain-core>=0.3.60->langchain_chroma) (1.0.0)\n",
      "Requirement already satisfied: zstandard<0.24.0,>=0.23.0 in c:\\users\\des\\anaconda3\\lib\\site-packages (from langsmith>=0.3.45->langchain-core>=0.3.60->langchain_chroma) (0.23.0)\n",
      "Requirement already satisfied: coloredlogs in c:\\users\\des\\anaconda3\\lib\\site-packages (from onnxruntime>=1.14.1->chromadb>=1.0.9->langchain_chroma) (15.0.1)\n",
      "Requirement already satisfied: flatbuffers in c:\\users\\des\\anaconda3\\lib\\site-packages (from onnxruntime>=1.14.1->chromadb>=1.0.9->langchain_chroma) (25.2.10)\n",
      "Requirement already satisfied: protobuf in c:\\users\\des\\anaconda3\\lib\\site-packages (from onnxruntime>=1.14.1->chromadb>=1.0.9->langchain_chroma) (5.29.3)\n",
      "Requirement already satisfied: sympy in c:\\users\\des\\anaconda3\\lib\\site-packages (from onnxruntime>=1.14.1->chromadb>=1.0.9->langchain_chroma) (1.13.1)\n",
      "Requirement already satisfied: importlib-metadata<8.8.0,>=6.0 in c:\\users\\des\\anaconda3\\lib\\site-packages (from opentelemetry-api>=1.2.0->chromadb>=1.0.9->langchain_chroma) (6.0.0)\n",
      "Requirement already satisfied: googleapis-common-protos~=1.52 in c:\\users\\des\\anaconda3\\lib\\site-packages (from opentelemetry-exporter-otlp-proto-grpc>=1.2.0->chromadb>=1.0.9->langchain_chroma) (1.70.0)\n",
      "Requirement already satisfied: opentelemetry-exporter-otlp-proto-common==1.34.1 in c:\\users\\des\\anaconda3\\lib\\site-packages (from opentelemetry-exporter-otlp-proto-grpc>=1.2.0->chromadb>=1.0.9->langchain_chroma) (1.34.1)\n",
      "Requirement already satisfied: opentelemetry-proto==1.34.1 in c:\\users\\des\\anaconda3\\lib\\site-packages (from opentelemetry-exporter-otlp-proto-grpc>=1.2.0->chromadb>=1.0.9->langchain_chroma) (1.34.1)\n",
      "Requirement already satisfied: opentelemetry-semantic-conventions==0.55b1 in c:\\users\\des\\anaconda3\\lib\\site-packages (from opentelemetry-sdk>=1.2.0->chromadb>=1.0.9->langchain_chroma) (0.55b1)\n",
      "Requirement already satisfied: backoff>=1.10.0 in c:\\users\\des\\anaconda3\\lib\\site-packages (from posthog>=2.4.0->chromadb>=1.0.9->langchain_chroma) (2.2.1)\n",
      "Requirement already satisfied: distro>=1.5.0 in c:\\users\\des\\anaconda3\\lib\\site-packages (from posthog>=2.4.0->chromadb>=1.0.9->langchain_chroma) (1.9.0)\n",
      "Requirement already satisfied: annotated-types>=0.6.0 in c:\\users\\des\\anaconda3\\lib\\site-packages (from pydantic>=1.9->chromadb>=1.0.9->langchain_chroma) (0.7.0)\n",
      "Requirement already satisfied: pydantic-core==2.27.2 in c:\\users\\des\\anaconda3\\lib\\site-packages (from pydantic>=1.9->chromadb>=1.0.9->langchain_chroma) (2.27.2)\n",
      "Requirement already satisfied: markdown-it-py>=2.2.0 in c:\\users\\des\\anaconda3\\lib\\site-packages (from rich>=10.11.0->chromadb>=1.0.9->langchain_chroma) (2.2.0)\n",
      "Requirement already satisfied: pygments<3.0.0,>=2.13.0 in c:\\users\\des\\anaconda3\\lib\\site-packages (from rich>=10.11.0->chromadb>=1.0.9->langchain_chroma) (2.15.1)\n",
      "Requirement already satisfied: huggingface-hub<1.0,>=0.16.4 in c:\\users\\des\\anaconda3\\lib\\site-packages (from tokenizers>=0.13.2->chromadb>=1.0.9->langchain_chroma) (0.33.1)\n",
      "Requirement already satisfied: click>=8.0.0 in c:\\users\\des\\anaconda3\\lib\\site-packages (from typer>=0.9.0->chromadb>=1.0.9->langchain_chroma) (8.0.4)\n",
      "Requirement already satisfied: shellingham>=1.3.0 in c:\\users\\des\\anaconda3\\lib\\site-packages (from typer>=0.9.0->chromadb>=1.0.9->langchain_chroma) (1.5.4)\n",
      "Requirement already satisfied: httptools>=0.6.3 in c:\\users\\des\\anaconda3\\lib\\site-packages (from uvicorn[standard]>=0.18.3->chromadb>=1.0.9->langchain_chroma) (0.6.4)\n",
      "Requirement already satisfied: python-dotenv>=0.13 in c:\\users\\des\\anaconda3\\lib\\site-packages (from uvicorn[standard]>=0.18.3->chromadb>=1.0.9->langchain_chroma) (0.21.0)\n",
      "Requirement already satisfied: watchfiles>=0.13 in c:\\users\\des\\anaconda3\\lib\\site-packages (from uvicorn[standard]>=0.18.3->chromadb>=1.0.9->langchain_chroma) (1.1.0)\n",
      "Requirement already satisfied: websockets>=10.4 in c:\\users\\des\\anaconda3\\lib\\site-packages (from uvicorn[standard]>=0.18.3->chromadb>=1.0.9->langchain_chroma) (15.0.1)\n",
      "Requirement already satisfied: cachetools<6.0,>=2.0.0 in c:\\users\\des\\anaconda3\\lib\\site-packages (from google-auth>=1.0.1->kubernetes>=28.1.0->chromadb>=1.0.9->langchain_chroma) (5.5.2)\n",
      "Requirement already satisfied: pyasn1-modules>=0.2.1 in c:\\users\\des\\anaconda3\\lib\\site-packages (from google-auth>=1.0.1->kubernetes>=28.1.0->chromadb>=1.0.9->langchain_chroma) (0.2.8)\n",
      "Requirement already satisfied: rsa<5,>=3.1.4 in c:\\users\\des\\anaconda3\\lib\\site-packages (from google-auth>=1.0.1->kubernetes>=28.1.0->chromadb>=1.0.9->langchain_chroma) (4.9.1)\n",
      "Requirement already satisfied: filelock in c:\\users\\des\\anaconda3\\lib\\site-packages (from huggingface-hub<1.0,>=0.16.4->tokenizers>=0.13.2->chromadb>=1.0.9->langchain_chroma) (3.9.0)\n",
      "Requirement already satisfied: fsspec>=2023.5.0 in c:\\users\\des\\anaconda3\\lib\\site-packages (from huggingface-hub<1.0,>=0.16.4->tokenizers>=0.13.2->chromadb>=1.0.9->langchain_chroma) (2025.3.0)\n",
      "Requirement already satisfied: zipp>=0.5 in c:\\users\\des\\anaconda3\\lib\\site-packages (from importlib-metadata<8.8.0,>=6.0->opentelemetry-api>=1.2.0->chromadb>=1.0.9->langchain_chroma) (3.11.0)\n",
      "Requirement already satisfied: mdurl~=0.1 in c:\\users\\des\\anaconda3\\lib\\site-packages (from markdown-it-py>=2.2.0->rich>=10.11.0->chromadb>=1.0.9->langchain_chroma) (0.1.0)\n",
      "Requirement already satisfied: charset_normalizer<4,>=2 in c:\\users\\des\\anaconda3\\lib\\site-packages (from requests->kubernetes>=28.1.0->chromadb>=1.0.9->langchain_chroma) (2.0.4)\n",
      "Requirement already satisfied: sniffio>=1.1 in c:\\users\\des\\anaconda3\\lib\\site-packages (from anyio->httpx>=0.27.0->chromadb>=1.0.9->langchain_chroma) (1.3.1)\n",
      "Requirement already satisfied: humanfriendly>=9.1 in c:\\users\\des\\anaconda3\\lib\\site-packages (from coloredlogs->onnxruntime>=1.14.1->chromadb>=1.0.9->langchain_chroma) (10.0)\n",
      "Requirement already satisfied: mpmath<1.4,>=1.1.0 in c:\\users\\des\\anaconda3\\lib\\site-packages (from sympy->onnxruntime>=1.14.1->chromadb>=1.0.9->langchain_chroma) (1.3.0)\n",
      "Requirement already satisfied: pyreadline3 in c:\\users\\des\\anaconda3\\lib\\site-packages (from humanfriendly>=9.1->coloredlogs->onnxruntime>=1.14.1->chromadb>=1.0.9->langchain_chroma) (3.5.4)\n",
      "Requirement already satisfied: pyasn1<0.5.0,>=0.4.6 in c:\\users\\des\\anaconda3\\lib\\site-packages (from pyasn1-modules>=0.2.1->google-auth>=1.0.1->kubernetes>=28.1.0->chromadb>=1.0.9->langchain_chroma) (0.4.8)\n"
     ]
    }
   ],
   "source": [
    "!pip install langchain_chroma"
   ]
  },
  {
   "cell_type": "code",
   "execution_count": 8,
   "id": "44300ab6",
   "metadata": {},
   "outputs": [],
   "source": [
    "from langchain_chroma import Chroma\n",
    "from langchain_community.document_loaders import TextLoader\n",
    "from langchain_ollama import OllamaEmbeddings\n",
    "from langchain_text_splitters import  RecursiveCharacterTextSplitter"
   ]
  },
  {
   "cell_type": "code",
   "execution_count": 9,
   "id": "829cd229",
   "metadata": {},
   "outputs": [],
   "source": [
    "loader = TextLoader(\"speech.txt\")\n",
    "documents = loader.load()\n",
    "text_splitter = RecursiveCharacterTextSplitter(chunk_size = 1000 , chunk_overlap = 30)\n",
    "splits = text_splitter.split_documents(documents)"
   ]
  },
  {
   "cell_type": "code",
   "execution_count": null,
   "id": "1ffe221e",
   "metadata": {},
   "outputs": [
    {
     "name": "stderr",
     "output_type": "stream",
     "text": [
      "Failed to send telemetry event ClientStartEvent: capture() takes 1 positional argument but 3 were given\n",
      "Failed to send telemetry event ClientCreateCollectionEvent: capture() takes 1 positional argument but 3 were given\n"
     ]
    }
   ],
   "source": [
    "import os\n",
    "from langchain_community.vectorstores import Chroma\n",
    "from langchain_ollama import OllamaEmbeddings\n",
    "import chromadb\n",
    "\n",
    "# Set environment variable\n",
    "os.environ[\"LANGCHAIN_TRACING_V2\"] = \"false\"\n",
    "\n",
    "# 1. Create the embedding object\n",
    "embedding = OllamaEmbeddings(model=\"all-minilm\")\n",
    "\n",
    "# 2. Create the Chroma client with new settings\n",
    "client = chromadb.PersistentClient(\n",
    "    path=\"./chroma_db\",  # Optional: specify if you want persistence\n",
    "    settings=chromadb.Settings(anonymized_telemetry=False)\n",
    ")\n",
    "\n",
    "# 3. Create the vector database\n",
    "vectordb = Chroma.from_documents(\n",
    "    documents=splits,\n",
    "    embedding=embedding,\n",
    "    client=client  # Pass the client directly\n",
    ")"
   ]
  },
  {
   "cell_type": "code",
   "execution_count": null,
   "id": "24aae0e4",
   "metadata": {},
   "outputs": [],
   "source": []
  }
 ],
 "metadata": {
  "kernelspec": {
   "display_name": "Python 3 (ipykernel)",
   "language": "python",
   "name": "python3"
  },
  "language_info": {
   "codemirror_mode": {
    "name": "ipython",
    "version": 3
   },
   "file_extension": ".py",
   "mimetype": "text/x-python",
   "name": "python",
   "nbconvert_exporter": "python",
   "pygments_lexer": "ipython3",
   "version": "3.11.5"
  }
 },
 "nbformat": 4,
 "nbformat_minor": 5
}
